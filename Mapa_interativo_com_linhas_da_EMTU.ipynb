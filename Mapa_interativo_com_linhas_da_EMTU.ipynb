{
  "nbformat": 4,
  "nbformat_minor": 0,
  "metadata": {
    "colab": {
      "provenance": [],
      "authorship_tag": "ABX9TyOub5qqrUUR/w8DK3C8cMBE",
      "include_colab_link": true
    },
    "kernelspec": {
      "name": "python3",
      "display_name": "Python 3"
    },
    "language_info": {
      "name": "python"
    }
  },
  "cells": [
    {
      "cell_type": "markdown",
      "metadata": {
        "id": "view-in-github",
        "colab_type": "text"
      },
      "source": [
        "<a href=\"https://colab.research.google.com/github/Emilly-Silva/Grupo-API2/blob/main/Mapa_interativo_com_linhas_da_EMTU.ipynb\" target=\"_parent\"><img src=\"https://colab.research.google.com/assets/colab-badge.svg\" alt=\"Open In Colab\"/></a>"
      ]
    },
    {
      "cell_type": "code",
      "source": [
        "import pandas as pd\n",
        "import folium\n",
        "\n",
        "# Dados de exemplo: endereços e suas coordenadas de latitude e longitude\n",
        "data = pd.DataFrame({\n",
        "    'location': [\n",
        "        'Terminal Rodoviário de Caçapava',\n",
        "        'Rua Antônio de Castro Júnior, 35, Caçapava - SP',\n",
        "        'Rod. Pres. Dutra, km 127 norte, Caçapava - SP'\n",
        "    ],\n",
        "    'latitude': [-23.1005, -23.1055, -23.1105],  # Exemplo de latitudes\n",
        "    'longitude': [-45.7005, -45.7055, -45.7105]  # Exemplo de longitudes\n",
        "})\n",
        "\n",
        "# Função para criar o mapa interativo\n",
        "def create_map(data):\n",
        "    # Definindo o centro inicial do mapa\n",
        "    mapa = folium.Map(location=[-23.1005, -45.7005], zoom_start=12)  # Coordenadas aproximadas de Caçapava\n",
        "\n",
        "    # Adicionando marcadores para cada local\n",
        "    for index, row in data.iterrows():\n",
        "        folium.Marker(\n",
        "            location=[row['latitude'], row['longitude']],  # Latitude e longitude\n",
        "            popup=row['location'],  # Nome do local\n",
        "        ).add_to(mapa)\n",
        "\n",
        "    return mapa\n",
        "\n",
        "# Criar o mapa\n",
        "mapa = create_map(data)\n",
        "\n",
        "# Salvar o mapa como um arquivo HTML\n",
        "mapa.save(\"mapa_interativo_emtu.html\")\n",
        "\n",
        "# Exibir uma mensagem para o usuário\n",
        "print(\"Mapa criado e salvo como 'mapa_interativo_emtu.html'\")\n"
      ],
      "metadata": {
        "colab": {
          "base_uri": "https://localhost:8080/"
        },
        "id": "eJuGdFd8LLBe",
        "outputId": "653daf16-2d25-4e30-c8ec-fa2d6ddaeb68"
      },
      "execution_count": 14,
      "outputs": [
        {
          "output_type": "stream",
          "name": "stdout",
          "text": [
            "Mapa criado e salvo como 'mapa_interativo_emtu.html'\n"
          ]
        }
      ]
    },
    {
      "cell_type": "code",
      "source": [],
      "metadata": {
        "id": "U6Bcn_82LQyj"
      },
      "execution_count": null,
      "outputs": []
    },
    {
      "cell_type": "markdown",
      "source": [],
      "metadata": {
        "id": "ZagDeiAbHhXM"
      }
    }
  ]
}